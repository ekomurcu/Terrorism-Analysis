{
 "cells": [
  {
   "cell_type": "markdown",
   "metadata": {},
   "source": [
    "# CS210 Term Project, 2018-2019 Spring"
   ]
  },
  {
   "cell_type": "markdown",
   "metadata": {},
   "source": [
    "## Initialization"
   ]
  },
  {
   "cell_type": "markdown",
   "metadata": {},
   "source": [
    "### Change active directory"
   ]
  },
  {
   "cell_type": "code",
   "execution_count": null,
   "metadata": {},
   "outputs": [],
   "source": [
    "from pathlib import Path\n",
    "src_path = Path.resolve(Path('..'))\n",
    "\n",
    "def chdir(directory):\n",
    "    import os  # Used to change active directory\n",
    "    try:\n",
    "        # Change the current working Directory    \n",
    "        os.chdir(src_path)\n",
    "        print(\"Directory changed\")\n",
    "    except OSError:\n",
    "        print(\"Can't change the Current Working Directory\")  \n",
    "\n",
    "chdir(src_path)"
   ]
  },
  {
   "cell_type": "markdown",
   "metadata": {},
   "source": [
    "### Import definitions.py"
   ]
  },
  {
   "cell_type": "code",
   "execution_count": null,
   "metadata": {},
   "outputs": [],
   "source": [
    "# Initialize software constants(global variables)\n",
    "# Check /src/definitions.init() for those global variables\n",
    "''' Global variable list\n",
    "DIR_SRC     # points to folder of source codes which is *PROJECT_DIRECTORY*/src\n",
    "DIR_DATA    # points to where input data files are located\n",
    "DIR_HAPP    # points to directory where HAPPINESS data files are being held\n",
    "DIR_SUIC    # points to directory where SUICIDE data files are being held\n",
    "DIR_SCRIPT  # points to directory where bash scripts are being held\n",
    "'''\n",
    "import definitions\n",
    "definitions.init()"
   ]
  },
  {
   "cell_type": "markdown",
   "metadata": {},
   "source": [
    "## Examples"
   ]
  },
  {
   "cell_type": "markdown",
   "metadata": {},
   "source": [
    "### Open & Read file\n",
    "Standard Python Library is used"
   ]
  },
  {
   "cell_type": "code",
   "execution_count": null,
   "metadata": {},
   "outputs": [],
   "source": [
    "with open(definitions.DIR_HAPP / 'WHR2019.csv') as f:\n",
    "    for line in f.readlines():\n",
    "        print(line)"
   ]
  },
  {
   "cell_type": "markdown",
   "metadata": {},
   "source": [
    "## Reference codes to be used later"
   ]
  },
  {
   "cell_type": "markdown",
   "metadata": {},
   "source": [
    "### ipython Import Mechanisms"
   ]
  },
  {
   "cell_type": "code",
   "execution_count": null,
   "metadata": {},
   "outputs": [],
   "source": [
    "''' ipython import mechanism 1\n",
    "# Assume there is a trial.py in the same folder as this notebook\n",
    "%load_ext autoreload\n",
    "%autoreload 1\n",
    "%aimport trial\n",
    "'''\n",
    "\n",
    "'''ipython import mechanism 2\n",
    "# Assume there is a trial.py in the same folder as this notebook\n",
    "%run -i 'trial.py'\n",
    "'''"
   ]
  },
  {
   "cell_type": "markdown",
   "metadata": {},
   "source": [
    "### New code reference"
   ]
  },
  {
   "cell_type": "code",
   "execution_count": null,
   "metadata": {},
   "outputs": [],
   "source": [
    "''' New code reference\n",
    "'''"
   ]
  }
 ],
 "metadata": {
  "kernelspec": {
   "display_name": "Python 3",
   "language": "python",
   "name": "python3"
  },
  "language_info": {
   "codemirror_mode": {
    "name": "ipython",
    "version": 3
   },
   "file_extension": ".py",
   "mimetype": "text/x-python",
   "name": "python",
   "nbconvert_exporter": "python",
   "pygments_lexer": "ipython3",
   "version": "3.6.7"
  }
 },
 "nbformat": 4,
 "nbformat_minor": 2
}
